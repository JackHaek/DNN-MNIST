{
 "cells": [
  {
   "cell_type": "code",
   "execution_count": 1,
   "id": "0e650e4a",
   "metadata": {},
   "outputs": [],
   "source": [
    "# Author: Jack Haek\n",
    "# Dataset Used: MNIST\n",
    "# CPU implementation of training a Feed-Forward Neural Network\n",
    "import matplotlib.pyplot as plt\n",
    "from tqdm import tqdm\n",
    "import torch\n",
    "import torch.nn as nn\n",
    "import torch.nn.functional as F\n",
    "import torch.optim as optim\n",
    "import time\n",
    "import numpy as np\n",
    "\n",
    "#Specific for the torch MNIST Dataset\n",
    "from torch.utils.data import Dataset\n",
    "from torchvision import datasets\n",
    "from torchvision.transforms import ToTensor"
   ]
  },
  {
   "cell_type": "code",
   "execution_count": 2,
   "id": "a3905af9",
   "metadata": {},
   "outputs": [],
   "source": [
    "# Variables that we can tune\n",
    "DATA_ROOT = \"data\"\n",
    "BATCH_SIZE = 16\n",
    "LEARN_RATE = 0.001\n",
    "EPOCHS = 3"
   ]
  },
  {
   "cell_type": "code",
   "execution_count": 3,
   "id": "4d8be14f",
   "metadata": {},
   "outputs": [],
   "source": [
    "# Grab Data from PyTorch - Raw Download\n",
    "training_data = datasets.MNIST(root=DATA_ROOT, train = True, download = True, transform=ToTensor())\n",
    "testing_data = datasets.MNIST(root=DATA_ROOT, train = False, download = True, transform=ToTensor())\n",
    "\n",
    "# Import the data so we can actually use it\n",
    "train_set = torch.utils.data.DataLoader(training_data, batch_size=BATCH_SIZE, shuffle = True)\n",
    "test_set = torch.utils.data.DataLoader(testing_data, batch_size=BATCH_SIZE, shuffle = True)"
   ]
  },
  {
   "cell_type": "code",
   "execution_count": 4,
   "id": "c5af0357",
   "metadata": {},
   "outputs": [
    {
     "name": "stdout",
     "output_type": "stream",
     "text": [
      "[tensor([[[[0., 0., 0.,  ..., 0., 0., 0.],\n",
      "          [0., 0., 0.,  ..., 0., 0., 0.],\n",
      "          [0., 0., 0.,  ..., 0., 0., 0.],\n",
      "          ...,\n",
      "          [0., 0., 0.,  ..., 0., 0., 0.],\n",
      "          [0., 0., 0.,  ..., 0., 0., 0.],\n",
      "          [0., 0., 0.,  ..., 0., 0., 0.]]],\n",
      "\n",
      "\n",
      "        [[[0., 0., 0.,  ..., 0., 0., 0.],\n",
      "          [0., 0., 0.,  ..., 0., 0., 0.],\n",
      "          [0., 0., 0.,  ..., 0., 0., 0.],\n",
      "          ...,\n",
      "          [0., 0., 0.,  ..., 0., 0., 0.],\n",
      "          [0., 0., 0.,  ..., 0., 0., 0.],\n",
      "          [0., 0., 0.,  ..., 0., 0., 0.]]],\n",
      "\n",
      "\n",
      "        [[[0., 0., 0.,  ..., 0., 0., 0.],\n",
      "          [0., 0., 0.,  ..., 0., 0., 0.],\n",
      "          [0., 0., 0.,  ..., 0., 0., 0.],\n",
      "          ...,\n",
      "          [0., 0., 0.,  ..., 0., 0., 0.],\n",
      "          [0., 0., 0.,  ..., 0., 0., 0.],\n",
      "          [0., 0., 0.,  ..., 0., 0., 0.]]],\n",
      "\n",
      "\n",
      "        ...,\n",
      "\n",
      "\n",
      "        [[[0., 0., 0.,  ..., 0., 0., 0.],\n",
      "          [0., 0., 0.,  ..., 0., 0., 0.],\n",
      "          [0., 0., 0.,  ..., 0., 0., 0.],\n",
      "          ...,\n",
      "          [0., 0., 0.,  ..., 0., 0., 0.],\n",
      "          [0., 0., 0.,  ..., 0., 0., 0.],\n",
      "          [0., 0., 0.,  ..., 0., 0., 0.]]],\n",
      "\n",
      "\n",
      "        [[[0., 0., 0.,  ..., 0., 0., 0.],\n",
      "          [0., 0., 0.,  ..., 0., 0., 0.],\n",
      "          [0., 0., 0.,  ..., 0., 0., 0.],\n",
      "          ...,\n",
      "          [0., 0., 0.,  ..., 0., 0., 0.],\n",
      "          [0., 0., 0.,  ..., 0., 0., 0.],\n",
      "          [0., 0., 0.,  ..., 0., 0., 0.]]],\n",
      "\n",
      "\n",
      "        [[[0., 0., 0.,  ..., 0., 0., 0.],\n",
      "          [0., 0., 0.,  ..., 0., 0., 0.],\n",
      "          [0., 0., 0.,  ..., 0., 0., 0.],\n",
      "          ...,\n",
      "          [0., 0., 0.,  ..., 0., 0., 0.],\n",
      "          [0., 0., 0.,  ..., 0., 0., 0.],\n",
      "          [0., 0., 0.,  ..., 0., 0., 0.]]]]), tensor([0, 4, 8, 2, 9, 4, 6, 1])]\n"
     ]
    }
   ],
   "source": [
    "# Ensure that we can access the data and see how it is organized\n",
    "for data in train_set:\n",
    "    print(data)\n",
    "    break"
   ]
  },
  {
   "cell_type": "code",
   "execution_count": 5,
   "id": "a64bb3a7",
   "metadata": {},
   "outputs": [
    {
     "name": "stdout",
     "output_type": "stream",
     "text": [
      "The image is a 0\n"
     ]
    },
    {
     "data": {
      "image/png": "[encoded data removed]",
      "text/plain": [
       "<Figure size 432x288 with 1 Axes>"
      ]
     },
     "metadata": {
      "needs_background": "light"
     },
     "output_type": "display_data"
    }
   ],
   "source": [
    "# Look at any image in the first batch.\n",
    "# Note that IMAGE_NUMBER is zero indexed\n",
    "IMAGE_NUMBER = 0\n",
    "if IMAGE_NUMBER >= 0 and IMAGE_NUMBER < BATCH_SIZE and isinstance(IMAGE_NUMBER, int):\n",
    "    x, y = data[0][IMAGE_NUMBER], data[1][IMAGE_NUMBER]\n",
    "    plt.imshow(x.view(28, 28), cmap = \"Greys\")\n",
    "    print(\"The image is a \" + str(int(y)))"
   ]
  },
  {
   "cell_type": "code",
   "execution_count": 6,
   "id": "1cd44dfc",
   "metadata": {},
   "outputs": [
    {
     "name": "stderr",
     "output_type": "stream",
     "text": [
      "100%|██████████| 7500/7500 [00:06<00:00, 1191.68it/s]\n"
     ]
    },
    {
     "name": "stdout",
     "output_type": "stream",
     "text": [
      "[9.871666666666666, 11.236666666666666, 9.93, 10.218333333333334, 9.736666666666666, 9.035, 9.863333333333333, 10.441666666666666, 9.751666666666667, 9.915000000000001]\n"
     ]
    },
    {
     "data": {
      "image/png": "[encoded data removed]",
      "text/plain": [
       "<Figure size 432x288 with 1 Axes>"
      ]
     },
     "metadata": {
      "needs_background": "light"
     },
     "output_type": "display_data"
    }
   ],
   "source": [
    "# Check the balance of the data\n",
    "total = 0\n",
    "counter_dict = {0:0, 1:0, 2:0, 3:0, 4:0, 5:0, 6:0, 7:0, 8:0, 9:0}\n",
    "percentages = []\n",
    "x_axis = [0, 1, 2, 3, 4, 5, 6, 7, 8, 9]\n",
    "for data in tqdm(train_set):\n",
    "    Xs, ys = data\n",
    "    for y in ys:\n",
    "        counter_dict[int(y)] += 1\n",
    "        total +=1\n",
    "        \n",
    "for i in counter_dict:\n",
    "    percentages.append(counter_dict[i]/total*100)\n",
    "\n",
    "print(percentages)\n",
    "plt.bar(x_axis, percentages)\n",
    "plt.title(\"Distribution of Data\")\n",
    "plt.xlabel(\"Classification\")\n",
    "plt.ylabel(\"Percentage of Data\")\n",
    "plt.show()"
   ]
  },
  {
   "cell_type": "code",
   "execution_count": 7,
   "id": "a70bcdfa",
   "metadata": {},
   "outputs": [],
   "source": [
    "# Build the network\n",
    "class Net(nn.Module):\n",
    "    def __init__(self):\n",
    "        # Initialize the nn.Module class\n",
    "        super().__init__()\n",
    "        self.fc1 = nn.Linear(28*28, 64) # Images are 28 by 28 so that is the input for the first layer\n",
    "        self.fc2 = nn.Linear(64, 64)\n",
    "        self.fc3 = nn.Linear(64, 64)\n",
    "        self.fc4 = nn.Linear(64, 10) # 10 is the output because we have 10 separate classes\n",
    "        \n",
    "    def forward(self, x):\n",
    "        x = F.relu(self.fc1(x))\n",
    "        x = F.relu(self.fc2(x))\n",
    "        x = F.relu(self.fc3(x))\n",
    "        x = self.fc4(x)\n",
    "        return F.log_softmax(x, dim = 1)"
   ]
  },
  {
   "cell_type": "code",
   "execution_count": 8,
   "id": "a34fc245",
   "metadata": {},
   "outputs": [
    {
     "name": "stdout",
     "output_type": "stream",
     "text": [
      "tensor([[-2.3251, -2.2091, -2.4218, -2.3637, -2.2604, -2.3378, -2.2197, -2.3619,\n",
      "         -2.2372, -2.3116]], grad_fn=<LogSoftmaxBackward0>)\n"
     ]
    }
   ],
   "source": [
    "# Test the model and check to make sure the output is valid\n",
    "net = Net()\n",
    "X = torch.rand((28, 28))\n",
    "output = net(X.view(-1, 28*28))\n",
    "print(output)"
   ]
  },
  {
   "cell_type": "code",
   "execution_count": 9,
   "id": "f3ce9efb",
   "metadata": {},
   "outputs": [
    {
     "name": "stderr",
     "output_type": "stream",
     "text": [
      "100%|██████████| 7500/7500 [00:19<00:00, 378.27it/s]\n",
      "100%|██████████| 7500/7500 [00:09<00:00, 799.36it/s]\n",
      "100%|██████████| 1250/1250 [00:01<00:00, 781.49it/s]\n"
     ]
    },
    {
     "name": "stdout",
     "output_type": "stream",
     "text": [
      "Train Loss: 0.241\n",
      "Test Loss: 0.043\n",
      "Train Accuracy: 96.182\n",
      "Train Accuracy: 96.182\n"
     ]
    },
    {
     "name": "stderr",
     "output_type": "stream",
     "text": [
      "100%|██████████| 7500/7500 [00:19<00:00, 382.19it/s]\n",
      "100%|██████████| 7500/7500 [00:09<00:00, 780.51it/s]\n",
      "100%|██████████| 1250/1250 [00:01<00:00, 793.48it/s]\n"
     ]
    },
    {
     "name": "stdout",
     "output_type": "stream",
     "text": [
      "Train Loss: 0.111\n",
      "Test Loss: 0.02\n",
      "Train Accuracy: 96.9\n",
      "Train Accuracy: 96.9\n"
     ]
    },
    {
     "name": "stderr",
     "output_type": "stream",
     "text": [
      "100%|██████████| 7500/7500 [00:19<00:00, 381.63it/s]\n",
      "100%|██████████| 7500/7500 [00:09<00:00, 795.84it/s]\n",
      "100%|██████████| 1250/1250 [00:01<00:00, 793.48it/s]\n"
     ]
    },
    {
     "name": "stdout",
     "output_type": "stream",
     "text": [
      "Train Loss: 0.001\n",
      "Test Loss: 0.004\n",
      "Train Accuracy: 97.585\n",
      "Train Accuracy: 97.585\n"
     ]
    }
   ],
   "source": [
    "# Define the optimizer algorithm. PyTorch comes with a few. They are generally good\n",
    "# Note that the time.sleep functions are used so that tqdm displays correctly\n",
    "optimizer = optim.Adam(net.parameters(), lr=LEARN_RATE)\n",
    "train_losses = []\n",
    "train_accuracies = []\n",
    "\n",
    "test_losses = []\n",
    "test_accuracies = []\n",
    "\n",
    "for epoch in range(EPOCHS):\n",
    "    for data in tqdm(train_set):\n",
    "        # data is the whole batch\n",
    "        X, y = data\n",
    "        net.zero_grad()\n",
    "        output = net(X.view(-1, 28*28))\n",
    "        loss = F.nll_loss(output, y)\n",
    "        loss.backward()\n",
    "        optimizer.step()\n",
    "    time.sleep(0.5)\n",
    "    correct = 0\n",
    "    total = 0\n",
    "    with torch.no_grad():\n",
    "        for data in tqdm(train_set):\n",
    "            X, y = data\n",
    "            output = net(X.view(-1, 28*28))\n",
    "            for idx, i in enumerate(output):\n",
    "                if torch.argmax(i) == y[idx]:\n",
    "                    correct += 1\n",
    "                total += 1\n",
    "    train_losses.append(float(loss))\n",
    "    train_accuracies.append(float(correct/total))\n",
    "    time.sleep(0.5)\n",
    "    correct = 0\n",
    "    total = 0\n",
    "    with torch.no_grad():\n",
    "        for data in tqdm(test_set):\n",
    "            X, y = data\n",
    "            output = net(X.view(-1, 28*28))\n",
    "            loss = F.nll_loss(output, y)\n",
    "            for idx, i in enumerate(output):\n",
    "                if torch.argmax(i) == y[idx]:\n",
    "                    correct += 1\n",
    "                total += 1\n",
    "    test_losses.append(float(loss))\n",
    "    accuracy = correct/total\n",
    "    test_accuracies.append(accuracy)\n",
    "    print(f\"Train Loss: {round(train_losses[-1], 3)}\")\n",
    "    print(f\"Test Loss: {round(test_losses[-1], 3)}\")\n",
    "    print(f\"Train Accuracy: {round(train_accuracies[-1]*100, 3)}\")\n",
    "    print(f\"Test Accuracy: {round(test_accuracies[-1]*100, 3)}\")\n",
    "    time.sleep(0.5)"
   ]
  },
  {
   "cell_type": "code",
   "execution_count": 10,
   "id": "987484aa",
   "metadata": {},
   "outputs": [
    {
     "data": {
      "image/png": "[encoded data removed]",
      "text/plain": [
       "<Figure size 432x288 with 1 Axes>"
      ]
     },
     "metadata": {
      "needs_background": "light"
     },
     "output_type": "display_data"
    },
    {
     "data": {
      "image/png": "[encoded data removed]",
      "text/plain": [
       "<Figure size 432x288 with 1 Axes>"
      ]
     },
     "metadata": {
      "needs_background": "light"
     },
     "output_type": "display_data"
    }
   ],
   "source": [
    "x_axis = np.linspace(1, EPOCHS, EPOCHS, dtype=int)\n",
    "plt.plot(x_axis, test_losses, color='Red', label = 'Test Loss')\n",
    "plt.plot(x_axis, train_losses, color='Black', label = 'Train Loss')\n",
    "plt.title(\"Loss Graph\")\n",
    "plt.xlabel(\"Epoch\")\n",
    "plt.ylabel(\"Loss\")\n",
    "plt.show()\n",
    "\n",
    "plt.plot(x_axis, test_accuracies, color='Red', label = 'Test Loss')\n",
    "plt.plot(x_axis, train_accuracies, color='Black', label = 'Train Loss')\n",
    "plt.title(\"Accuracy Graph\")\n",
    "plt.xlabel(\"Epoch\")\n",
    "plt.ylabel(\"Accuracy\")\n",
    "plt.show()"
   ]
  }
 ],
 "metadata": {
  "kernelspec": {
   "display_name": "Python 3",
   "language": "python",
   "name": "python3"
  },
  "language_info": {
   "codemirror_mode": {
    "name": "ipython",
    "version": 3
   },
   "file_extension": ".py",
   "mimetype": "text/x-python",
   "name": "python",
   "nbconvert_exporter": "python",
   "pygments_lexer": "ipython3",
   "version": "3.8.8"
  }
 },
 "nbformat": 4,
 "nbformat_minor": 5
}
